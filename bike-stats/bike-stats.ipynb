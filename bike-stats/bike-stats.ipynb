{
 "cells": [
  {
   "cell_type": "markdown",
   "id": "200688ee-82ec-4058-9840-17f072c2717c",
   "metadata": {},
   "source": [
    "# Data Analysis with Pandas\n",
    "## Video Game Stats\n",
    "## Bayan Alkhatib \n",
    "## 6/21/2021"
   ]
  },
  {
   "cell_type": "code",
   "execution_count": 1,
   "id": "c36f5c0b-8cff-4382-8d3b-ebeaddfbd939",
   "metadata": {},
   "outputs": [],
   "source": [
    "import pandas as pd\n",
    "import numpy as np"
   ]
  },
  {
   "cell_type": "code",
   "execution_count": 2,
   "id": "e7210ad5-d98d-4ca7-b0db-b3ab9d2b5609",
   "metadata": {},
   "outputs": [
    {
     "name": "stderr",
     "output_type": "stream",
     "text": [
      "b'Skipping line 50794: expected 12 fields, saw 20\\n'\n"
     ]
    }
   ],
   "source": [
    "df=pd.read_csv('./trip.csv',error_bad_lines=False)\n",
    "df1=pd.read_csv('./weather.csv')\n",
    "df2=pd.read_csv('./station.csv')"
   ]
  },
  {
   "cell_type": "markdown",
   "id": "b2ff82a8-4cea-44b7-afaa-d114071721b7",
   "metadata": {},
   "source": [
    "## What is the average trip duration for a borrowed bicycle?"
   ]
  },
  {
   "cell_type": "code",
   "execution_count": 3,
   "id": "82c3787c-7dfa-4ea2-b3d1-1a1515ca977d",
   "metadata": {},
   "outputs": [
    {
     "data": {
      "text/plain": [
       "1178.2956753399776"
      ]
     },
     "execution_count": 3,
     "metadata": {},
     "output_type": "execute_result"
    }
   ],
   "source": [
    "avg_trip_duration=df['tripduration'].agg({'tripduration':'mean'})\n",
    "avg_trip_duration[0]"
   ]
  },
  {
   "cell_type": "markdown",
   "id": "8006fdd2-ec29-4baa-a92e-3f9ee0d88f62",
   "metadata": {},
   "source": [
    "## What’s the most common age of a bicycle-sharer?"
   ]
  },
  {
   "cell_type": "code",
   "execution_count": 4,
   "id": "f2af6191-33fb-4d6c-8b9d-4f17c0e7ef5a",
   "metadata": {},
   "outputs": [
    {
     "data": {
      "text/plain": [
       "34.0"
      ]
     },
     "execution_count": 4,
     "metadata": {},
     "output_type": "execute_result"
    }
   ],
   "source": [
    "most_common_age=2021-df['birthyear'].mode()[0]\n",
    "most_common_age"
   ]
  },
  {
   "cell_type": "markdown",
   "id": "a4e3fc46-446f-47e9-ac94-300dade69961",
   "metadata": {},
   "source": [
    "## Given all the weather data here, find the average precipitation per month, and the median precipitation."
   ]
  },
  {
   "cell_type": "code",
   "execution_count": 5,
   "id": "b6640f0b-31fe-4db9-8ba4-51431c04f7d5",
   "metadata": {},
   "outputs": [
    {
     "data": {
      "text/plain": [
       "3.1519593613933234"
      ]
     },
     "execution_count": 5,
     "metadata": {},
     "output_type": "execute_result"
    }
   ],
   "source": [
    "avg_precipitation_day=df1['Precipitation_In'].mean()\n",
    "avg_precipitation_month=avg_precipitation_day*30\n",
    "avg_precipitation_month"
   ]
  },
  {
   "cell_type": "code",
   "execution_count": 6,
   "id": "5a48f0e7-0cd5-458a-8d32-b4fc78a98987",
   "metadata": {},
   "outputs": [
    {
     "data": {
      "text/plain": [
       "0.0"
      ]
     },
     "execution_count": 6,
     "metadata": {},
     "output_type": "execute_result"
    }
   ],
   "source": [
    "median_precipitation=df1['Precipitation_In'].median()\n",
    "median_precipitation"
   ]
  },
  {
   "cell_type": "markdown",
   "id": "56a7cba3-bb92-4bda-af31-e7c33c38c18e",
   "metadata": {},
   "source": [
    "## What’s the average number of bikes at a given bike station?"
   ]
  },
  {
   "cell_type": "code",
   "execution_count": 7,
   "id": "0dc565a9-84ae-437c-a7ec-1411ae9913ac",
   "metadata": {},
   "outputs": [
    {
     "data": {
      "text/plain": [
       "17.586206896551722"
      ]
     },
     "execution_count": 7,
     "metadata": {},
     "output_type": "execute_result"
    }
   ],
   "source": [
    "avg_num_bikes=df2['install_dockcount'].mean()\n",
    "avg_num_bikes"
   ]
  },
  {
   "cell_type": "markdown",
   "id": "72de1a8f-ed4b-4b6d-ac51-cabf3a779379",
   "metadata": {},
   "source": [
    "## When a bike station is modified, is it more likely that it’ll lose bikes or gain bikes? "
   ]
  },
  {
   "cell_type": "code",
   "execution_count": 8,
   "id": "f010f5e5-ddd8-4354-bb73-7df4cc4edc20",
   "metadata": {},
   "outputs": [
    {
     "data": {
      "text/plain": [
       "16.517241379310345"
      ]
     },
     "execution_count": 8,
     "metadata": {},
     "output_type": "execute_result"
    }
   ],
   "source": [
    "avg_num_midified_bikes=df2['current_dockcount'].mean()\n",
    "avg_num_midified_bikes"
   ]
  },
  {
   "cell_type": "markdown",
   "id": "f5bf0581-c069-4561-8afc-bbb7e2c79403",
   "metadata": {},
   "source": [
    "### it is most likely to lose bikes, because the modified mean is less than the previous mean"
   ]
  },
  {
   "cell_type": "markdown",
   "id": "d84dc727-45b8-49c1-ab77-76f76a2f3067",
   "metadata": {},
   "source": [
    "## Come up with 3 more questions that can be answered with this data set."
   ]
  },
  {
   "cell_type": "markdown",
   "id": "9474045c-75ed-4866-bf5a-46bb4fcdb1f6",
   "metadata": {},
   "source": [
    "1. what is the date the have the heighest temperature\n",
    "2. what stations you expect to be modifided \n",
    "3. what is the avg number of men use bikes"
   ]
  },
  {
   "cell_type": "code",
   "execution_count": 9,
   "id": "b06f5832-f214-462f-bd78-45d167c7e227",
   "metadata": {},
   "outputs": [
    {
     "name": "stdout",
     "output_type": "stream",
     "text": [
      "Success!!!\n"
     ]
    }
   ],
   "source": [
    "def test ():\n",
    "    \n",
    "    def assert_equal(actual,expected):\n",
    "       \n",
    "        assert actual == expected, f\"Expected {expected} but got {actual}\"\n",
    "\n",
    "    assert_equal(avg_trip_duration[0],1178.2956753399776)\n",
    "    assert_equal(most_common_age,34.0)\n",
    "    assert_equal(avg_precipitation_month,3.1519593613933234)\n",
    "    assert_equal(median_precipitation, 0.0)\n",
    "    assert_equal(avg_num_bikes,17.586206896551722)\n",
    "    assert_equal(avg_num_midified_bikes,16.517241379310345)\n",
    "\n",
    "    print(\"Success!!!\")\n",
    "        \n",
    "test()"
   ]
  },
  {
   "cell_type": "code",
   "execution_count": null,
   "id": "488ee3e2-c39c-4927-8e18-36605235ac94",
   "metadata": {},
   "outputs": [],
   "source": []
  },
  {
   "cell_type": "code",
   "execution_count": null,
   "id": "238be513-4b2c-41f8-b825-4144d22f1bea",
   "metadata": {},
   "outputs": [],
   "source": []
  },
  {
   "cell_type": "code",
   "execution_count": null,
   "id": "8c73c2f9-4782-4195-9971-42e86dbe6f69",
   "metadata": {},
   "outputs": [],
   "source": []
  }
 ],
 "metadata": {
  "kernelspec": {
   "display_name": "Python 3",
   "language": "python",
   "name": "python3"
  },
  "language_info": {
   "codemirror_mode": {
    "name": "ipython",
    "version": 3
   },
   "file_extension": ".py",
   "mimetype": "text/x-python",
   "name": "python",
   "nbconvert_exporter": "python",
   "pygments_lexer": "ipython3",
   "version": "3.9.4"
  }
 },
 "nbformat": 4,
 "nbformat_minor": 5
}
