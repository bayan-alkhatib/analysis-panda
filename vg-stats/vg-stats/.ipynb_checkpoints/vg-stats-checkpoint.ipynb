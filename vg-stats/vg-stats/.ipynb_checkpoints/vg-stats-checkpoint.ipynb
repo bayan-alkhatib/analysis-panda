{
 "cells": [
  {
   "cell_type": "markdown",
   "id": "8b60b898-3f36-44e3-9f51-20f01451ab40",
   "metadata": {},
   "source": [
    "# Data Analysis with Pandas\n",
    "## Video Game Stats\n",
    "## Bayan Alkhatib \n",
    "## 6/21/2021"
   ]
  },
  {
   "cell_type": "code",
   "execution_count": 1,
   "id": "da2f01b4-f57f-4229-858c-967374081574",
   "metadata": {},
   "outputs": [],
   "source": [
    "import pandas as pd\n",
    "import numpy as np"
   ]
  },
  {
   "cell_type": "markdown",
   "id": "537ad7e4-bd22-464a-b424-f53cdb4a358e",
   "metadata": {},
   "source": [
    "## Which company is the most common video game publisher?"
   ]
  },
  {
   "cell_type": "code",
   "execution_count": 2,
   "id": "1a26c6f7-a2e0-4625-a3e7-1db121d5a394",
   "metadata": {},
   "outputs": [],
   "source": [
    "df=pd.read_csv('./vgsales.csv')"
   ]
  },
  {
   "cell_type": "code",
   "execution_count": 3,
   "id": "2fd210f9-595d-4df4-9ace-5cb1ea630152",
   "metadata": {},
   "outputs": [],
   "source": [
    "most_common_publisher= df['Publisher'].mode()[0]"
   ]
  },
  {
   "cell_type": "code",
   "execution_count": 4,
   "id": "557d8ae6-87d4-4b4a-8057-9a3962bdaed7",
   "metadata": {},
   "outputs": [
    {
     "data": {
      "text/plain": [
       "'Electronic Arts'"
      ]
     },
     "execution_count": 4,
     "metadata": {},
     "output_type": "execute_result"
    }
   ],
   "source": [
    "most_common_publisher"
   ]
  },
  {
   "cell_type": "markdown",
   "id": "3ac5b0a1-f082-4c43-8cda-b25669c47239",
   "metadata": {},
   "source": [
    "## What’s the most common platform?"
   ]
  },
  {
   "cell_type": "code",
   "execution_count": 5,
   "id": "883cbaaa-fa7a-4302-b9b4-86cda6a384b1",
   "metadata": {},
   "outputs": [],
   "source": [
    "most_common_platform=df['Platform'].mode()[0]"
   ]
  },
  {
   "cell_type": "code",
   "execution_count": 6,
   "id": "205cb560-9670-4254-a232-f182b15a8ca3",
   "metadata": {},
   "outputs": [
    {
     "data": {
      "text/plain": [
       "'DS'"
      ]
     },
     "execution_count": 6,
     "metadata": {},
     "output_type": "execute_result"
    }
   ],
   "source": [
    "most_common_platform"
   ]
  },
  {
   "cell_type": "markdown",
   "id": "505c0cc5-45a9-4b03-b295-6800bb939f9b",
   "metadata": {},
   "source": [
    "## What about the most common genre?"
   ]
  },
  {
   "cell_type": "code",
   "execution_count": 7,
   "id": "ce2883db-3bb4-4c1d-8d6b-58dc5ab32c39",
   "metadata": {},
   "outputs": [],
   "source": [
    "most_common_genre=df['Genre'].mode()[0]"
   ]
  },
  {
   "cell_type": "code",
   "execution_count": 8,
   "id": "d713002c-60fe-4be3-895b-569065e16733",
   "metadata": {},
   "outputs": [
    {
     "data": {
      "text/plain": [
       "'Action'"
      ]
     },
     "execution_count": 8,
     "metadata": {},
     "output_type": "execute_result"
    }
   ],
   "source": [
    "most_common_genre"
   ]
  },
  {
   "cell_type": "markdown",
   "id": "e2939463-18df-4588-a5f9-e6ebb87418a7",
   "metadata": {},
   "source": [
    "## What are the top 20 highest grossing games?"
   ]
  },
  {
   "cell_type": "code",
   "execution_count": 9,
   "id": "8048d128-9646-44d4-8dbf-1fbd44ad3ddd",
   "metadata": {},
   "outputs": [
    {
     "data": {
      "text/html": [
       "<div>\n",
       "<style scoped>\n",
       "    .dataframe tbody tr th:only-of-type {\n",
       "        vertical-align: middle;\n",
       "    }\n",
       "\n",
       "    .dataframe tbody tr th {\n",
       "        vertical-align: top;\n",
       "    }\n",
       "\n",
       "    .dataframe thead th {\n",
       "        text-align: right;\n",
       "    }\n",
       "</style>\n",
       "<table border=\"1\" class=\"dataframe\">\n",
       "  <thead>\n",
       "    <tr style=\"text-align: right;\">\n",
       "      <th></th>\n",
       "      <th>Name</th>\n",
       "      <th>Global_Sales</th>\n",
       "    </tr>\n",
       "  </thead>\n",
       "  <tbody>\n",
       "    <tr>\n",
       "      <th>0</th>\n",
       "      <td>Wii Sports</td>\n",
       "      <td>82.74</td>\n",
       "    </tr>\n",
       "    <tr>\n",
       "      <th>1</th>\n",
       "      <td>Super Mario Bros.</td>\n",
       "      <td>40.24</td>\n",
       "    </tr>\n",
       "    <tr>\n",
       "      <th>2</th>\n",
       "      <td>Mario Kart Wii</td>\n",
       "      <td>35.82</td>\n",
       "    </tr>\n",
       "    <tr>\n",
       "      <th>3</th>\n",
       "      <td>Wii Sports Resort</td>\n",
       "      <td>33.00</td>\n",
       "    </tr>\n",
       "    <tr>\n",
       "      <th>4</th>\n",
       "      <td>Pokemon Red/Pokemon Blue</td>\n",
       "      <td>31.37</td>\n",
       "    </tr>\n",
       "    <tr>\n",
       "      <th>5</th>\n",
       "      <td>Tetris</td>\n",
       "      <td>30.26</td>\n",
       "    </tr>\n",
       "    <tr>\n",
       "      <th>6</th>\n",
       "      <td>New Super Mario Bros.</td>\n",
       "      <td>30.01</td>\n",
       "    </tr>\n",
       "    <tr>\n",
       "      <th>7</th>\n",
       "      <td>Wii Play</td>\n",
       "      <td>29.02</td>\n",
       "    </tr>\n",
       "    <tr>\n",
       "      <th>8</th>\n",
       "      <td>New Super Mario Bros. Wii</td>\n",
       "      <td>28.62</td>\n",
       "    </tr>\n",
       "    <tr>\n",
       "      <th>9</th>\n",
       "      <td>Duck Hunt</td>\n",
       "      <td>28.31</td>\n",
       "    </tr>\n",
       "    <tr>\n",
       "      <th>10</th>\n",
       "      <td>Nintendogs</td>\n",
       "      <td>24.76</td>\n",
       "    </tr>\n",
       "    <tr>\n",
       "      <th>11</th>\n",
       "      <td>Mario Kart DS</td>\n",
       "      <td>23.42</td>\n",
       "    </tr>\n",
       "    <tr>\n",
       "      <th>12</th>\n",
       "      <td>Pokemon Gold/Pokemon Silver</td>\n",
       "      <td>23.10</td>\n",
       "    </tr>\n",
       "    <tr>\n",
       "      <th>13</th>\n",
       "      <td>Wii Fit</td>\n",
       "      <td>22.72</td>\n",
       "    </tr>\n",
       "    <tr>\n",
       "      <th>14</th>\n",
       "      <td>Wii Fit Plus</td>\n",
       "      <td>22.00</td>\n",
       "    </tr>\n",
       "    <tr>\n",
       "      <th>15</th>\n",
       "      <td>Kinect Adventures!</td>\n",
       "      <td>21.82</td>\n",
       "    </tr>\n",
       "    <tr>\n",
       "      <th>16</th>\n",
       "      <td>Grand Theft Auto V</td>\n",
       "      <td>21.40</td>\n",
       "    </tr>\n",
       "    <tr>\n",
       "      <th>17</th>\n",
       "      <td>Grand Theft Auto: San Andreas</td>\n",
       "      <td>20.81</td>\n",
       "    </tr>\n",
       "    <tr>\n",
       "      <th>18</th>\n",
       "      <td>Super Mario World</td>\n",
       "      <td>20.61</td>\n",
       "    </tr>\n",
       "    <tr>\n",
       "      <th>19</th>\n",
       "      <td>Brain Age: Train Your Brain in Minutes a Day</td>\n",
       "      <td>20.22</td>\n",
       "    </tr>\n",
       "  </tbody>\n",
       "</table>\n",
       "</div>"
      ],
      "text/plain": [
       "                                            Name  Global_Sales\n",
       "0                                     Wii Sports         82.74\n",
       "1                              Super Mario Bros.         40.24\n",
       "2                                 Mario Kart Wii         35.82\n",
       "3                              Wii Sports Resort         33.00\n",
       "4                       Pokemon Red/Pokemon Blue         31.37\n",
       "5                                         Tetris         30.26\n",
       "6                          New Super Mario Bros.         30.01\n",
       "7                                       Wii Play         29.02\n",
       "8                      New Super Mario Bros. Wii         28.62\n",
       "9                                      Duck Hunt         28.31\n",
       "10                                    Nintendogs         24.76\n",
       "11                                 Mario Kart DS         23.42\n",
       "12                   Pokemon Gold/Pokemon Silver         23.10\n",
       "13                                       Wii Fit         22.72\n",
       "14                                  Wii Fit Plus         22.00\n",
       "15                            Kinect Adventures!         21.82\n",
       "16                            Grand Theft Auto V         21.40\n",
       "17                 Grand Theft Auto: San Andreas         20.81\n",
       "18                             Super Mario World         20.61\n",
       "19  Brain Age: Train Your Brain in Minutes a Day         20.22"
      ]
     },
     "execution_count": 9,
     "metadata": {},
     "output_type": "execute_result"
    }
   ],
   "source": [
    "top_twenty_highest_grossing_games=df[['Name','Global_Sales']].head(20)\n",
    "\n",
    "top_twenty_highest_grossing_games\n"
   ]
  },
  {
   "cell_type": "markdown",
   "id": "961ae9c0-5e84-41f2-9b66-649499e23384",
   "metadata": {},
   "source": [
    "## For North American video game sales, what’s the median? "
   ]
  },
  {
   "cell_type": "code",
   "execution_count": 10,
   "id": "1afdd42b-4093-4d2d-ba6a-208e63e55c12",
   "metadata": {},
   "outputs": [],
   "source": [
    "na_median_sales=df['NA_Sales'].median()"
   ]
  },
  {
   "cell_type": "code",
   "execution_count": 11,
   "id": "0e9cba3f-3bec-4b46-aae1-159776526395",
   "metadata": {},
   "outputs": [
    {
     "data": {
      "text/plain": [
       "0.08"
      ]
     },
     "execution_count": 11,
     "metadata": {},
     "output_type": "execute_result"
    }
   ],
   "source": [
    "na_median_sales"
   ]
  },
  {
   "cell_type": "markdown",
   "id": "99bf79b3-4b03-47f1-ad34-9b682a52d868",
   "metadata": {},
   "source": [
    "## secondary output showing ten games surrounding the median sales output "
   ]
  },
  {
   "cell_type": "code",
   "execution_count": 12,
   "id": "c853cbbd-269b-4ac3-8fcd-6dd0e983eb19",
   "metadata": {},
   "outputs": [
    {
     "data": {
      "text/html": [
       "<div>\n",
       "<style scoped>\n",
       "    .dataframe tbody tr th:only-of-type {\n",
       "        vertical-align: middle;\n",
       "    }\n",
       "\n",
       "    .dataframe tbody tr th {\n",
       "        vertical-align: top;\n",
       "    }\n",
       "\n",
       "    .dataframe thead th {\n",
       "        text-align: right;\n",
       "    }\n",
       "</style>\n",
       "<table border=\"1\" class=\"dataframe\">\n",
       "  <thead>\n",
       "    <tr style=\"text-align: right;\">\n",
       "      <th></th>\n",
       "      <th>Rank</th>\n",
       "      <th>Name</th>\n",
       "      <th>Platform</th>\n",
       "      <th>Year</th>\n",
       "      <th>Genre</th>\n",
       "      <th>Publisher</th>\n",
       "      <th>NA_Sales</th>\n",
       "      <th>EU_Sales</th>\n",
       "      <th>JP_Sales</th>\n",
       "      <th>Other_Sales</th>\n",
       "      <th>Global_Sales</th>\n",
       "    </tr>\n",
       "  </thead>\n",
       "  <tbody>\n",
       "    <tr>\n",
       "      <th>446</th>\n",
       "      <td>447</td>\n",
       "      <td>Dragon Warrior IV</td>\n",
       "      <td>NES</td>\n",
       "      <td>1990.0</td>\n",
       "      <td>Role-Playing</td>\n",
       "      <td>Enix Corporation</td>\n",
       "      <td>0.08</td>\n",
       "      <td>0.00</td>\n",
       "      <td>3.03</td>\n",
       "      <td>0.01</td>\n",
       "      <td>3.12</td>\n",
       "    </tr>\n",
       "    <tr>\n",
       "      <th>497</th>\n",
       "      <td>498</td>\n",
       "      <td>World Soccer Winning Eleven 7 International</td>\n",
       "      <td>PS2</td>\n",
       "      <td>2003.0</td>\n",
       "      <td>Sports</td>\n",
       "      <td>Konami Digital Entertainment</td>\n",
       "      <td>0.08</td>\n",
       "      <td>1.24</td>\n",
       "      <td>1.13</td>\n",
       "      <td>0.45</td>\n",
       "      <td>2.90</td>\n",
       "    </tr>\n",
       "    <tr>\n",
       "      <th>1617</th>\n",
       "      <td>1619</td>\n",
       "      <td>Farming Simulator 2015</td>\n",
       "      <td>PC</td>\n",
       "      <td>2014.0</td>\n",
       "      <td>Simulation</td>\n",
       "      <td>Focus Home Interactive</td>\n",
       "      <td>0.08</td>\n",
       "      <td>1.02</td>\n",
       "      <td>0.00</td>\n",
       "      <td>0.13</td>\n",
       "      <td>1.23</td>\n",
       "    </tr>\n",
       "    <tr>\n",
       "      <th>1926</th>\n",
       "      <td>1928</td>\n",
       "      <td>Pro Evolution Soccer 2008</td>\n",
       "      <td>X360</td>\n",
       "      <td>2007.0</td>\n",
       "      <td>Sports</td>\n",
       "      <td>Konami Digital Entertainment</td>\n",
       "      <td>0.08</td>\n",
       "      <td>0.90</td>\n",
       "      <td>0.04</td>\n",
       "      <td>0.05</td>\n",
       "      <td>1.07</td>\n",
       "    </tr>\n",
       "    <tr>\n",
       "      <th>2067</th>\n",
       "      <td>2069</td>\n",
       "      <td>Winning Eleven: Pro Evolution Soccer 2007 (All...</td>\n",
       "      <td>X360</td>\n",
       "      <td>2006.0</td>\n",
       "      <td>Sports</td>\n",
       "      <td>Konami Digital Entertainment</td>\n",
       "      <td>0.08</td>\n",
       "      <td>0.90</td>\n",
       "      <td>0.02</td>\n",
       "      <td>0.00</td>\n",
       "      <td>1.00</td>\n",
       "    </tr>\n",
       "    <tr>\n",
       "      <th>2373</th>\n",
       "      <td>2375</td>\n",
       "      <td>Phantasy Star Portable 2</td>\n",
       "      <td>PSP</td>\n",
       "      <td>2009.0</td>\n",
       "      <td>Role-Playing</td>\n",
       "      <td>Sega</td>\n",
       "      <td>0.08</td>\n",
       "      <td>0.11</td>\n",
       "      <td>0.62</td>\n",
       "      <td>0.06</td>\n",
       "      <td>0.88</td>\n",
       "    </tr>\n",
       "    <tr>\n",
       "      <th>2579</th>\n",
       "      <td>2581</td>\n",
       "      <td>The Sims 2: Castaway</td>\n",
       "      <td>PSP</td>\n",
       "      <td>2007.0</td>\n",
       "      <td>Simulation</td>\n",
       "      <td>Electronic Arts</td>\n",
       "      <td>0.08</td>\n",
       "      <td>0.46</td>\n",
       "      <td>0.00</td>\n",
       "      <td>0.25</td>\n",
       "      <td>0.80</td>\n",
       "    </tr>\n",
       "    <tr>\n",
       "      <th>3186</th>\n",
       "      <td>3188</td>\n",
       "      <td>SingStar Queen</td>\n",
       "      <td>PS2</td>\n",
       "      <td>2009.0</td>\n",
       "      <td>Misc</td>\n",
       "      <td>Sony Computer Entertainment</td>\n",
       "      <td>0.08</td>\n",
       "      <td>0.12</td>\n",
       "      <td>0.00</td>\n",
       "      <td>0.44</td>\n",
       "      <td>0.63</td>\n",
       "    </tr>\n",
       "    <tr>\n",
       "      <th>3503</th>\n",
       "      <td>3505</td>\n",
       "      <td>Top Spin 3</td>\n",
       "      <td>PS3</td>\n",
       "      <td>2008.0</td>\n",
       "      <td>Action</td>\n",
       "      <td>Take-Two Interactive</td>\n",
       "      <td>0.08</td>\n",
       "      <td>0.37</td>\n",
       "      <td>0.00</td>\n",
       "      <td>0.12</td>\n",
       "      <td>0.57</td>\n",
       "    </tr>\n",
       "    <tr>\n",
       "      <th>3703</th>\n",
       "      <td>3705</td>\n",
       "      <td>Sonic &amp; All-Stars Racing Transformed</td>\n",
       "      <td>PS3</td>\n",
       "      <td>2012.0</td>\n",
       "      <td>Racing</td>\n",
       "      <td>Sega</td>\n",
       "      <td>0.08</td>\n",
       "      <td>0.33</td>\n",
       "      <td>0.01</td>\n",
       "      <td>0.11</td>\n",
       "      <td>0.54</td>\n",
       "    </tr>\n",
       "  </tbody>\n",
       "</table>\n",
       "</div>"
      ],
      "text/plain": [
       "      Rank                                               Name Platform  \\\n",
       "446    447                                  Dragon Warrior IV      NES   \n",
       "497    498        World Soccer Winning Eleven 7 International      PS2   \n",
       "1617  1619                             Farming Simulator 2015       PC   \n",
       "1926  1928                          Pro Evolution Soccer 2008     X360   \n",
       "2067  2069  Winning Eleven: Pro Evolution Soccer 2007 (All...     X360   \n",
       "2373  2375                           Phantasy Star Portable 2      PSP   \n",
       "2579  2581                               The Sims 2: Castaway      PSP   \n",
       "3186  3188                                     SingStar Queen      PS2   \n",
       "3503  3505                                         Top Spin 3      PS3   \n",
       "3703  3705               Sonic & All-Stars Racing Transformed      PS3   \n",
       "\n",
       "        Year         Genre                     Publisher  NA_Sales  EU_Sales  \\\n",
       "446   1990.0  Role-Playing              Enix Corporation      0.08      0.00   \n",
       "497   2003.0        Sports  Konami Digital Entertainment      0.08      1.24   \n",
       "1617  2014.0    Simulation        Focus Home Interactive      0.08      1.02   \n",
       "1926  2007.0        Sports  Konami Digital Entertainment      0.08      0.90   \n",
       "2067  2006.0        Sports  Konami Digital Entertainment      0.08      0.90   \n",
       "2373  2009.0  Role-Playing                          Sega      0.08      0.11   \n",
       "2579  2007.0    Simulation               Electronic Arts      0.08      0.46   \n",
       "3186  2009.0          Misc   Sony Computer Entertainment      0.08      0.12   \n",
       "3503  2008.0        Action          Take-Two Interactive      0.08      0.37   \n",
       "3703  2012.0        Racing                          Sega      0.08      0.33   \n",
       "\n",
       "      JP_Sales  Other_Sales  Global_Sales  \n",
       "446       3.03         0.01          3.12  \n",
       "497       1.13         0.45          2.90  \n",
       "1617      0.00         0.13          1.23  \n",
       "1926      0.04         0.05          1.07  \n",
       "2067      0.02         0.00          1.00  \n",
       "2373      0.62         0.06          0.88  \n",
       "2579      0.00         0.25          0.80  \n",
       "3186      0.00         0.44          0.63  \n",
       "3503      0.00         0.12          0.57  \n",
       "3703      0.01         0.11          0.54  "
      ]
     },
     "execution_count": 12,
     "metadata": {},
     "output_type": "execute_result"
    }
   ],
   "source": [
    "ten_median_na_seller_names=df[(df['NA_Sales']>=na_median_sales) & (df['NA_Sales']<=na_median_sales)].head(10)\n",
    "ten_median_na_seller_names\n",
    "\n"
   ]
  },
  {
   "cell_type": "markdown",
   "id": "98348e06-99db-4a73-951f-5dafde86dd2a",
   "metadata": {},
   "source": [
    "## For the top-selling game of all time, how many standard deviations above/below the mean are its sales for North America?"
   ]
  },
  {
   "cell_type": "code",
   "execution_count": 13,
   "id": "f7b69a1c-d241-40c1-9def-1fbd146e23c4",
   "metadata": {},
   "outputs": [],
   "source": [
    "top_selling_game=df['NA_Sales'].head(1)"
   ]
  },
  {
   "cell_type": "code",
   "execution_count": 14,
   "id": "43439df4-11d9-460e-b614-1df1c0129c75",
   "metadata": {},
   "outputs": [],
   "source": [
    "std_val=(top_selling_game-df[\"NA_Sales\"].mean())/df[\"NA_Sales\"].std()"
   ]
  },
  {
   "cell_type": "code",
   "execution_count": 15,
   "id": "e5399802-a9ab-447e-bdb0-8df722d1397e",
   "metadata": {},
   "outputs": [
    {
     "data": {
      "text/plain": [
       "50.47898767479108"
      ]
     },
     "execution_count": 15,
     "metadata": {},
     "output_type": "execute_result"
    }
   ],
   "source": [
    "std_val[0]"
   ]
  },
  {
   "cell_type": "markdown",
   "id": "5d38c25a-6553-4913-bec4-9c796dd75769",
   "metadata": {},
   "source": [
    "## How does its average number of sales compare with all of the other platforms?"
   ]
  },
  {
   "cell_type": "code",
   "execution_count": 16,
   "id": "d6ba0cc4-ad67-4f13-b9f9-79cb2a793d8c",
   "metadata": {},
   "outputs": [
    {
     "data": {
      "text/plain": [
       "0.6994037735849057"
      ]
     },
     "execution_count": 16,
     "metadata": {},
     "output_type": "execute_result"
    }
   ],
   "source": [
    "group_by_wii=df[df['Platform']=='Wii']\n",
    "group_wii_mean=group_by_wii.Global_Sales.mean()\n",
    "group_wii_mean"
   ]
  },
  {
   "cell_type": "code",
   "execution_count": 17,
   "id": "b655c37f-b7dc-40db-ac5e-d5f334087dee",
   "metadata": {},
   "outputs": [
    {
     "data": {
      "text/plain": [
       "0.5233896418516336"
      ]
     },
     "execution_count": 17,
     "metadata": {},
     "output_type": "execute_result"
    }
   ],
   "source": [
    "group_by_platforms=df[df['Platform'] !='Wii']\n",
    "group_platforms_mean=group_by_platforms.Global_Sales.mean()\n",
    "group_platforms_mean"
   ]
  },
  {
   "cell_type": "markdown",
   "id": "b8cda2ab-abac-4beb-8709-61669429c57d",
   "metadata": {},
   "source": [
    "## Come up with 3 more questions that can be answered with this data set."
   ]
  },
  {
   "cell_type": "markdown",
   "id": "86535e01-82ff-4eef-b7f8-63683b872a9f",
   "metadata": {},
   "source": [
    "\n",
    "1.  what game has  the maximum EU_sales \n",
    "2.  in which year Wii plateform had its lowest global sales\n",
    "3. which platform has avg jp sales below heighest platform sales"
   ]
  },
  {
   "cell_type": "code",
   "execution_count": 18,
   "id": "90ef6206-1991-42cc-90b5-ededc08f8b90",
   "metadata": {},
   "outputs": [
    {
     "name": "stdout",
     "output_type": "stream",
     "text": [
      "Success!!!\n"
     ]
    }
   ],
   "source": [
    "def test ():\n",
    "    def assert_equal(actual,expected):\n",
    "        assert actual == expected, f\"Expected {expected} but got {actual}\"\n",
    "\n",
    "    assert_equal(most_common_publisher,'Electronic Arts')\n",
    "    assert_equal(most_common_platform,'DS')\n",
    "    assert_equal(most_common_genre,'Action')\n",
    "    assert_equal(top_twenty_highest_grossing_games.iloc[0].Name,'Wii Sports')\n",
    "    assert_equal(top_twenty_highest_grossing_games.iloc[19].Name, 'Brain Age: Train Your Brain in Minutes a Day')\n",
    "    assert_equal(na_median_sales,0.08)\n",
    "    assert_equal(ten_median_na_seller_names.iloc[0].Name,'Dragon Warrior IV')\n",
    "    assert_equal(std_val[0],50.47898767479108 )\n",
    "    assert_equal(group_wii_mean,0.6994037735849057)\n",
    "    assert_equal(group_platforms_mean,0.5233896418516336)\n",
    "\n",
    "    print(\"Success!!!\")\n",
    "        \n",
    "test()\n",
    "\n",
    "         \n",
    "         \n",
    "\n"
   ]
  },
  {
   "cell_type": "code",
   "execution_count": null,
   "id": "cf90c7eb-e2ad-4cf3-9f8e-cd02c42ae322",
   "metadata": {},
   "outputs": [],
   "source": []
  }
 ],
 "metadata": {
  "kernelspec": {
   "display_name": "Python 3",
   "language": "python",
   "name": "python3"
  },
  "language_info": {
   "codemirror_mode": {
    "name": "ipython",
    "version": 3
   },
   "file_extension": ".py",
   "mimetype": "text/x-python",
   "name": "python",
   "nbconvert_exporter": "python",
   "pygments_lexer": "ipython3",
   "version": "3.9.4"
  }
 },
 "nbformat": 4,
 "nbformat_minor": 5
}
